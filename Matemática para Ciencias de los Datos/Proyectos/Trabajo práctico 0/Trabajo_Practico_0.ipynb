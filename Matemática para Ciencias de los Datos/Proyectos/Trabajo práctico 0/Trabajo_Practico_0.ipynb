{
  "nbformat": 4,
  "nbformat_minor": 0,
  "metadata": {
    "colab": {
      "name": "Trabajo_Practico_0.ipynb",
      "provenance": [],
      "collapsed_sections": []
    },
    "kernelspec": {
      "name": "python3",
      "display_name": "Python 3"
    }
  },
  "cells": [
    {
      "cell_type": "code",
      "metadata": {
        "id": "bsYOA3-8CeiL",
        "colab_type": "code",
        "colab": {}
      },
      "source": [
        ""
      ],
      "execution_count": 0,
      "outputs": []
    },
    {
      "cell_type": "markdown",
      "metadata": {
        "id": "5y00deSUCfUn",
        "colab_type": "text"
      },
      "source": [
        "# Curso: Matemática para ciencia de los datos\n",
        "\n",
        "## Sistemas lineales\n",
        "\n",
        "### Definición \n",
        "\n",
        "Gran parte del curso se basará en el estudio de sistemas o modelos lineales para realizar desde el filt o mejorar cualidades de importancia), hasta la consturcción de modelos de clasificación"
      ]
    },
    {
      "cell_type": "markdown",
      "metadata": {
        "id": "xpK5L7DUDBme",
        "colab_type": "text"
      },
      "source": [
        "* $g(t)=5\\,u(t)$. Con una entrada dada por $\\alpha u_{1}(t)+\\beta u_{2}(t)$, se tiene que:\n",
        "$\\alpha\\,5\\,u_{1}(t)+\\beta\\,5,u_{2}(t)=\\alpha\\,5\\,u_{1}(t)+\\beta\\,5\\,u_{2}(t)$\n",
        "por lo tanto el sistema es lineal.**bold text**"
      ]
    },
    {
      "cell_type": "code",
      "metadata": {
        "id": "XazWEInnDFUC",
        "colab_type": "code",
        "colab": {
          "base_uri": "https://localhost:8080/",
          "height": 87
        },
        "outputId": "46e542a7-e675-4e6b-cbf3-f44cc30c4331"
      },
      "source": [
        "#Con la siguiente instrucción se instala torch \n",
        "\n",
        "!pip install torch\n",
        "\n",
        "#Con la siguiente instrucción se importa torch y se le asigna el nombre torch para ser referenciado.\n",
        "#Torches una libreria usada para aplicaciones como la Computer Vision\n",
        "#y el procesamiento del lenguaje natural.\n",
        "import torch as torch\n",
        "\n",
        "#Con la siguiente isntrucción se importa de la libreria math las funciones srt, exp\n",
        "from math import sqrt, exp\n",
        "\n",
        "#La siguiente instrucción se importa numpy \n",
        "#NumPy es una bibliotecaque agrega soporte para matrices y matrices multidimensionales grandes,\n",
        "#junto con una gran colección de funciones matemáticas de alto nivel para operar en estas matrices.\n",
        "\n",
        "import numpy as np\n",
        "\n",
        "# en la siguiente funcion se define una función llamada linealFunction\n",
        "\n",
        "def linealFunction(x):\n",
        "  y = 5 * x\n",
        "  return y\n",
        "\n",
        "#Se crea un tensor o arreglo que empieze desde 0.0 hasta 2.0 \n",
        "#con una brecha de 0.30 entre cada par de puntos adyacentes\n",
        "\n",
        "# Un tensor es una generalización de vectores y matrices \n",
        "# y se entiende fácilmente como una matriz multidimensional.\n",
        "# Valor de x despues de el arange es de tensor([0.0000, 0.3000, 0.6000, 0.9000, 1.2000, 1.5000, 1.8000])\n",
        "\n",
        "x = torch.arange(0.0,2.0,0.30)\n",
        "\n",
        "# Esta instrucción crea un tensorDevuelve un tensor lleno de números aleatorios de una distribución \n",
        "# normal con media 0 y varianza 1 (también llamada distribución normal estándar).\n",
        "#Por ejemplo tensor([[-0.1394]])\n",
        "\n",
        "alpha = torch.randn(1,1)\n",
        "\n",
        "# Se esta creando una nueva variable que se llama aumento y multiplica el tensor alpha por el x\n",
        "#Ejemplo tensor([[0.0000, 0.2700, 0.5400, 0.8100, 1.0801, 1.3501, 1.6201]])\n",
        "aumento = alpha * x\n",
        "\n",
        "# Se imprime el tensor aumento \n",
        "print( aumento )\n",
        "\n",
        "# Se imprime el tamaño del tensor \n",
        "print ( aumento.size() )\n",
        "\n"
      ],
      "execution_count": 7,
      "outputs": [
        {
          "output_type": "stream",
          "text": [
            "Requirement already satisfied: torch in /usr/local/lib/python3.6/dist-packages (1.2.0)\n",
            "Requirement already satisfied: numpy in /usr/local/lib/python3.6/dist-packages (from torch) (1.16.5)\n",
            "tensor([[0.0000, 0.2700, 0.5400, 0.8100, 1.0801, 1.3501, 1.6201]])\n",
            "torch.Size([1, 7])\n"
          ],
          "name": "stdout"
        }
      ]
    },
    {
      "cell_type": "markdown",
      "metadata": {
        "id": "SKrw0Kz2JKCp",
        "colab_type": "text"
      },
      "source": [
        "$L \\{  \\alpha f_1(x) + \\beta f_2(x)\\} = \\alpha L\\{f_1(x)\\} + \\beta L \\{f_2(x)\\}$\n"
      ]
    }
  ]
}