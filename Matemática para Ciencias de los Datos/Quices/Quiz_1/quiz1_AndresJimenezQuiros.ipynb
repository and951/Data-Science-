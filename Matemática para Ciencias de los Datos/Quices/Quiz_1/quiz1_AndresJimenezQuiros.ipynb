{
  "nbformat": 4,
  "nbformat_minor": 0,
  "metadata": {
    "colab": {
      "name": "especificacion.ipynb",
      "provenance": [],
      "collapsed_sections": []
    },
    "kernelspec": {
      "name": "python3",
      "display_name": "Python 3"
    }
  },
  "cells": [
    {
      "cell_type": "code",
      "metadata": {
        "id": "NffWeUbnzWnT",
        "colab_type": "code",
        "colab": {}
      },
      "source": [
        ""
      ],
      "execution_count": 0,
      "outputs": []
    },
    {
      "cell_type": "markdown",
      "metadata": {
        "id": "TGvdZZ7C16o5",
        "colab_type": "text"
      },
      "source": [
        "# Matemática para Ciencia de los Datos\n",
        "# Quiz 1\n",
        "\n",
        "Luis Alexánder Calvo Valverde \n",
        "\n",
        "Instituto Tecnológico de Costa Rica, \n",
        "\n",
        "PAttern Recongition and MAchine Learning Group (PARMA-Group)\n",
        "\n",
        "---\n",
        "\n",
        "Fecha de entrega: Jueves 24 de Octubre del 2019, a más tardar a las 3:00 pm.\n",
        "\n",
        "Medio de entrega: Por medio del TEC-Digital.\n",
        "\n",
        "Entregables: Un archivo en jupyter ( .IPYNB ). \n",
        "\n",
        "Modo de trabajo: Individual.\n",
        "\n",
        "\n",
        "---\n",
        "\n",
        "\n",
        "\n",
        "Resumen En el presente quiz se repasan varios conceptos elementales respecto a matrices.\n",
        "\n",
        "\n",
        "---\n"
      ]
    },
    {
      "cell_type": "markdown",
      "metadata": {
        "id": "tgcoZAm82q8Y",
        "colab_type": "text"
      },
      "source": [
        "**Pregunta 1 (50 puntos)**\n",
        "\n",
        "Considerando que la transpuesta de una matriz es el resultado de cambiar las filas a columnas. Sea una matriz $A\\in\\mathbb{R}^{m\\times n}$, su transpuesta se escribe como $A^{T}\\in\\mathbb{R}^{n\\times m}$ y sus entradas están dadas por: \n",
        "\n",
        "\\begin{equation}\n",
        "\\left(A^{T}\\right)_{i,j}=A_{j,i}.\n",
        "\\end{equation}\n",
        "\n",
        "Las siguientes son propiedades de la transpuesta: \n",
        "\n",
        "- $\\left(A^{T}\\right)^{T}=A$\n",
        "- $\\left(AB\\right)^{T}=B^{T}A^{T}$\n",
        "- $\\left(A+B\\right)^{T}=A^{T}+B^{T}$.\n",
        "\n",
        "\n",
        "\n",
        "---\n",
        "\n",
        "\n",
        "\n",
        "Proponga Usted dos matrices, $A\\in\\mathbb{R}^{4\\times 3}$ y $B\\in\\mathbb{R}^{3\\times 4}$ (no las busque en Internet, trate de proponer los valores por si mismo), y utilizando pythorch muestre que las siguientes propiedades se cumplen con sus matrices propuestas.\n",
        "\n",
        "**Note** que ni A ni B son cuadradas, y no tienen las mismas dimensiones.\n",
        "\n",
        "\n",
        "**1. (25 puntos)**\n",
        "\n",
        "$\\left(A^{T}\\right)^{T}=A$\n",
        "\n",
        "**2. (25 puntos)**\n",
        "\n",
        "$\\left(AB\\right)^{T}=B^{T}A^{T}$\n",
        "\n"
      ]
    },
    {
      "cell_type": "code",
      "metadata": {
        "id": "BZWnbdhozUR5",
        "colab_type": "code",
        "outputId": "1fad76ca-d9ac-4de3-fe0a-ef9ccd40ef65",
        "colab": {
          "base_uri": "https://localhost:8080/",
          "height": 69
        }
      },
      "source": [
        "import torch\n",
        "\n",
        "matrixA = torch.Tensor(\n",
        "[\n",
        "   [1,2,3],\n",
        "   [4,5,6],\n",
        "   [7,8,9],\n",
        "   [10,11,12]\n",
        "])\n",
        "\n",
        "matrixB = torch.Tensor(\n",
        "[\n",
        "   [1,2,3,0],\n",
        "   [4,5,6,0],\n",
        "   [7,8,9,0]\n",
        "])1\n",
        "\n",
        "#1. (25 puntos) (𝐴𝑇)𝑇=𝐴Involutiva\n",
        "\n",
        "#La siguiente función muestra como una matriz es cumple la propiedad Involutiva de las matrices traspuestas\n",
        "\n",
        "def esInvolutiva(matrix):\n",
        "  return torch.equal(matrix.t().t(), matrix)\n",
        "\n",
        "print('La matriz A cumple la propiedad  involutiva '+str(esInvolutiva(matrixA)))\n",
        "print('La matriz B cumple la propiedad  involutiva '+str(esInvolutiva(matrixB)))\n",
        "\n",
        "#2. (25 puntos) (𝐴𝐵)𝑇=𝐵𝑇𝐴𝑇 Distributiva\n",
        "\n",
        "#La siguiente función muestra como una matriz es cumple la propiedad Distributiva de las matrices traspuestas\n",
        "\n",
        "def esDistributiva(matrixA,matrixB):\n",
        "  return torch.equal(torch.mm(matrixA,matrixB).t()\n",
        "                     ,torch.mm(matrixB.t(),matrixA.t()))\n",
        "\n",
        "print('La matriz A y B cumplen la propiedad ditributiva '+str(esDistributiva(matrixA,matrixB)))\n",
        "\n"
      ],
      "execution_count": 1,
      "outputs": [
        {
          "output_type": "stream",
          "text": [
            "La matriz A cumple la propiedad  involutiva True\n",
            "La matriz B cumple la propiedad  involutiva True\n",
            "La matriz A y B cumplen la propiedad ditributiva True\n"
          ],
          "name": "stdout"
        }
      ]
    },
    {
      "cell_type": "markdown",
      "metadata": {
        "id": "QJ6O85pM5Ns3",
        "colab_type": "text"
      },
      "source": [
        "**Pregunta 2 (50 puntos)**\n",
        "\n",
        "\n",
        "Un conjunto de vectores $\\left\\{ \\vec{x}_{1},\\vec{x}_{2},\\ldots,\\vec{x}_{n}\\right\\} \\in\\mathbb{R}^{m}$ se dice que es linealmente independiente, si ningún vector de tal conjunto puede ser representado como una combinación lineal del resto de vectores. De lo contrario, si uno de los vectores en tal conjunto puede ser representado como una combinación lineal del resto de vectores, entonces los vectores son linealmente dependientes, lo que se expresa como: \n",
        "\n",
        "\\begin{equation}\n",
        "\\vec{x}_{j}=\\sum_{i=1}^{n-1}\\alpha_{i}\\vec{x}_{i}\n",
        "\\end{equation}\n",
        "\n",
        "para cualquier conjunto de valores escalares $\\alpha_{1},\\ldots,\\alpha_{n-1}\\in\\mathbb{R}$ se dice que el vector $\\vec{x}_{j}\\in\\mathbb{R}^{m}$ es linealmente dependiente de los vectores $\\vec{x}_{i}$. \n",
        "\n",
        "\n",
        "\n",
        "---\n",
        "\n",
        "**1. (25 puntos)**\n",
        "\n",
        "Para $n = 5$ y $m=3$, es decir, cinco vectores, todos $\\in\\mathbb{R}^{3}$, propóngalos Usted mismo (no los busque en Internet) de manera que dicho conjunto de vectores sea linealmente independiente. Prográmelo en pythorch para mostrar que cumplen esta propiedad.\n",
        "\n",
        "**2. (25 puntos)**\n",
        "Ahora unifique esos cinco vectores en una matriz ($A$) y cálcule su rango. Luego os cambios necesarios a su matriz de manera que sea de rango $2$. Muestre todo esto en pythorch (puede utilizar torch.matrix_rank)."
      ]
    },
    {
      "cell_type": "code",
      "metadata": {
        "id": "qtzSO2S_48lO",
        "colab_type": "code",
        "colab": {
          "base_uri": "https://localhost:8080/",
          "height": 86
        },
        "outputId": "006e7b7b-7242-4ff4-a2e7-acf2ca6daf02"
      },
      "source": [
        "from itertools import combinations\n",
        "\n",
        "#1\n",
        "\n",
        "vectoresLinealmenteIndependientes = torch.Tensor( [[1,2,3],\n",
        "                                     [5,1,4],\n",
        "                                     [7,9,1],\n",
        "                                     [4,5,6],\n",
        "                                     [2,1,5]])\n",
        "\n",
        "# Esta funcion pretende comprobar si una matriz es linealmente independiente. Para esto \n",
        "# se hace lo siguiente: \n",
        "#  Si la matriz es cuadrada solo se calcula el rango de la matriz y si este es igual a sus filas/columnas \n",
        "#  esto quiere decir que todos los vectores son linealmente independientes entre si. \n",
        "#\n",
        "#  Si la matriz no es cuadrada entonces se calcula el rango de toda las combinacinoes cuadradas posibles. \n",
        "#  En caso de que todos los rangos sean del tamaño de su dimension cuadrada se puede decir que la matriz es linealmente independiente. \n",
        "\n",
        "\n",
        "def crearMatrizCuadrada (matrizOriginal,combinacionDeFilas):\n",
        "  dimension = len(combinacionDeFilas)\n",
        "  matrizCuadrada = torch.zeros([dimension,dimension])\n",
        "  \n",
        "  indiceMatrizCuadrada = 0\n",
        "  for indiceFilaEnCombinacion in combinacionDeFilas:\n",
        "    matrizCuadrada[indiceMatrizCuadrada] =  matrizOriginal[indiceFilaEnCombinacion]  \n",
        "    indiceMatrizCuadrada +=1\n",
        "\n",
        "  return matrizCuadrada\n",
        "    \n",
        "def isLinealmenteIndependientes(pMatrix):\n",
        "   \n",
        "    #Si la cantidad de columnas es mas que las filas se debe de trasponer la matriz para que funcione el calculo de combinaciones\n",
        "    matrix = pMatrix if len(pMatrix[0]) <= len(pMatrix)  else pMatrix.t()\n",
        "    \n",
        "    cantidadFilas = len(matrix)\n",
        "    cantidadColumnas = len(matrix[0])\n",
        "    #Se compara si la matriz es cuadrada \n",
        "    if (cantidadFilas == cantidadColumnas):\n",
        "      return torch.matrix_rank(matrix) == cantidadFilas\n",
        "    \n",
        "    rango = min( cantidadFilas, cantidadColumnas)    \n",
        "    cantidadFilasLista= list(range(cantidadFilas))\n",
        "    \n",
        "    #Combin de itertools devuelve las n subsecuencias de longitud de los elementos de la entrada iterable.\n",
        "    combin = combinations(cantidadFilasLista, cantidadColumnas)\n",
        "    \n",
        "    for combinacionActual in list(combin): \n",
        "      \n",
        "      matrizCuadrada = crearMatrizCuadrada(matrix,combinacionActual)                 \n",
        "      rangoMatrizCuadrada = torch.matrix_rank( matrizCuadrada )\n",
        "      \n",
        "      if(rangoMatrizCuadrada != rango ):\n",
        "        return False\n",
        "      \n",
        "    return True\n",
        "\n",
        "\n",
        "print(\"El conjunto de vectores sea linealmente independiente \"+ str(isLinealmenteIndependientes(vectoresLinealmenteIndependientes)))\n",
        "\n",
        "\n",
        "#2\n",
        "\n",
        "#2.1 Ahora unifique esos cinco vectores en una matriz ( 𝐴 ) y cálcule su rango. \n",
        "print(\"El rango de la matriz es: \"+ str(torch.matrix_rank( vectoresLinealmenteIndependientes )))\n",
        "\n",
        "\n",
        "#2.2 Luego os cambios necesarios a su matriz de manera que sea de rango  2 .\n",
        "\n",
        "vectoresLinealmenteIndependientes = torch.Tensor( [[1,2,3],\n",
        "                                     [5,1,4],\n",
        "                                     [4,8,12],\n",
        "                                     [8,16,24],\n",
        "                                     [2,4,6]])\n",
        "\n",
        "print(\"El conjunto de vectores sea linealmente independiente \"+ str(isLinealmenteIndependientes(vectoresLinealmenteIndependientes)))\n",
        "print(\"El rango de la matriz es: \"+ str(torch.matrix_rank( vectoresLinealmenteIndependientes )))"
      ],
      "execution_count": 14,
      "outputs": [
        {
          "output_type": "stream",
          "text": [
            "El conjunto de vectores sea linealmente independiente True\n",
            "El rango de la matriz es: tensor(3)\n",
            "El conjunto de vectores sea linealmente independiente False\n",
            "El rango de la matriz es: tensor(2)\n"
          ],
          "name": "stdout"
        }
      ]
    }
  ]
}